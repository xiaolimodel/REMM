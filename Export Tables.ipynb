{
 "cells": [
  {
   "cell_type": "code",
   "execution_count": null,
   "metadata": {},
   "outputs": [],
   "source": [
    "%load_ext autoreload\n",
    "%autoreload 2\n",
    "from urbansim_defaults import datasources, models\n",
    "import datasources, models, variables\n",
    "import urbansim.sim.simulation as sim\n",
    "from urbansim.utils import misc\n",
    "import pandas as pd"
   ]
  },
  {
   "cell_type": "code",
   "execution_count": null,
   "metadata": {},
   "outputs": [],
   "source": [
    "#Example, export current year's policy layer table\n",
    "sim.run(['clear_cache'], years=[2050])\n",
    "n = sim.get_table('zoning_baseline')\n",
    "n = n.to_frame([\"max_dua\",\"max_far\",\"type1\",\"type2\",\"type3\",\"type4\",\"type5\"])\n",
    "n.to_csv(\"GP2050_Center.csv\")"
   ]
  },
  {
   "cell_type": "code",
   "execution_count": null,
   "metadata": {},
   "outputs": [],
   "source": [
    "#write h5 table to csv files\n",
    "data = pd.read_hdf('data/wfrc_data_08282017_airport_zone_update.h5', 'zoning_baseline')\n",
    "data.to_csv(\"csv files\")"
   ]
  }
 ],
 "metadata": {
  "kernelspec": {
   "display_name": "Python 2",
   "language": "python",
   "name": "python2"
  },
  "language_info": {
   "codemirror_mode": {
    "name": "ipython",
    "version": 2
   },
   "file_extension": ".py",
   "mimetype": "text/x-python",
   "name": "python",
   "nbconvert_exporter": "python",
   "pygments_lexer": "ipython2",
   "version": "2.7.16"
  }
 },
 "nbformat": 4,
 "nbformat_minor": 2
}
