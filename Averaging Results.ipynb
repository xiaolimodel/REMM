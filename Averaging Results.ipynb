{
 "cells": [
  {
   "cell_type": "code",
   "execution_count": null,
   "metadata": {},
   "outputs": [],
   "source": [
    "import pandas as pd\n",
    "import os"
   ]
  },
  {
   "cell_type": "code",
   "execution_count": null,
   "metadata": {},
   "outputs": [],
   "source": [
    "RUNNUM = 6                      #Number of runs\n",
    "FOLDER = r\"./\"                  #Folder with REMM results, should have sub folders of Run1 Run2... etc.\n",
    "for year in range(2015,2061):\n",
    "#for year in range(2015,2051):\n",
    "    print year\n",
    "    filename1 = os.path.join(FOLDER,r\"Run1/SE_WF_\" + str(year) + \".csv\")\n",
    "\n",
    "    run1 =  pd.read_csv(filename1,index_col = \";TAZID\")\n",
    "    runaverage = run1.copy()\n",
    "    for run in range(2,RUNNUM + 1):\n",
    "        currentfilename =  os.path.join(FOLDER,r\"Run\" + str(run) + \"/SE_WF_\" + str(year) + \".csv\")\n",
    "        \n",
    "        currentrun = pd.read_csv(currentfilename,index_col = \";TAZID\")\n",
    "\n",
    "        runaverage['TOTHH'] = runaverage['TOTHH'] + currentrun.TOTHH\n",
    "        runaverage['HHPOP'] = runaverage['HHPOP'] + currentrun.HHPOP\n",
    "        runaverage['RETL'] = runaverage['RETL'] + currentrun.RETL\n",
    "        runaverage['FOOD'] = runaverage['FOOD'] + currentrun.FOOD\n",
    "        runaverage['MANU'] = runaverage['MANU'] + currentrun.MANU\n",
    "        runaverage['WSLE'] = runaverage['WSLE'] + currentrun.WSLE\n",
    "        runaverage['OFFI'] = runaverage['OFFI'] + currentrun.OFFI\n",
    "        runaverage['GVED'] = runaverage['GVED'] + currentrun.GVED\n",
    "        runaverage['HLTH'] = runaverage['HLTH'] + currentrun.HLTH\n",
    "        runaverage['OTHR'] = runaverage['OTHR'] + currentrun.OTHR\n",
    "        runaverage['FM_AGRI'] = runaverage['FM_AGRI'] + currentrun.FM_AGRI\n",
    "        runaverage['FM_MING'] = runaverage['FM_MING'] + currentrun.FM_MING\n",
    "        runaverage['FM_CONS'] = runaverage['FM_CONS'] + currentrun.FM_CONS\n",
    "        runaverage['HBJ'] = runaverage['HBJ'] + currentrun.HBJ\n",
    "\n",
    "    runaverage['TOTHH'] = runaverage['TOTHH']/RUNNUM\n",
    "    runaverage['HHPOP'] = runaverage['HHPOP']/RUNNUM\n",
    "    runaverage['RETL'] = runaverage['RETL']/RUNNUM\n",
    "    runaverage['FOOD'] = runaverage['FOOD']/RUNNUM\n",
    "    runaverage['MANU'] = runaverage['MANU']/RUNNUM\n",
    "    runaverage['WSLE'] = runaverage['WSLE']/RUNNUM\n",
    "    runaverage['OFFI'] = runaverage['OFFI']/RUNNUM\n",
    "    runaverage['GVED'] = runaverage['GVED']/RUNNUM\n",
    "    runaverage['HLTH'] = runaverage['HLTH']/RUNNUM\n",
    "    runaverage['OTHR'] = runaverage['OTHR']/RUNNUM\n",
    "    runaverage['FM_AGRI'] = runaverage['FM_AGRI']/RUNNUM\n",
    "    runaverage['FM_MING'] = runaverage['FM_MING']/RUNNUM\n",
    "    runaverage['FM_CONS'] = runaverage['FM_CONS']/RUNNUM\n",
    "    runaverage['HBJ'] = runaverage['HBJ']/RUNNUM\n",
    "    runaverage['HHSIZE'] = 0\n",
    "    runaverage.HHSIZE[runaverage.HHPOP > 0] = runaverage.HHPOP[runaverage.HHPOP > 0]/runaverage.HHPOP[runaverage.HHPOP > 0] \n",
    "    runaverage['ALLEMP'] = runaverage['RETL']+runaverage['FOOD']+runaverage['MANU']+runaverage['WSLE']+runaverage['OFFI']+runaverage['GVED']+runaverage['HLTH']+runaverage['OTHR']+runaverage['FM_AGRI']+runaverage['FM_MING']+runaverage['FM_CONS']+runaverage['HBJ']\n",
    "    runaverage.to_csv(os.path.join(FOLDER,r\"SE_WF_\" + str(year) + \".csv\"))"
   ]
  }
 ],
 "metadata": {
  "kernelspec": {
   "display_name": "Python 2",
   "language": "python",
   "name": "python2"
  },
  "language_info": {
   "codemirror_mode": {
    "name": "ipython",
    "version": 2
   },
   "file_extension": ".py",
   "mimetype": "text/x-python",
   "name": "python",
   "nbconvert_exporter": "python",
   "pygments_lexer": "ipython2",
   "version": "2.7.16"
  }
 },
 "nbformat": 4,
 "nbformat_minor": 2
}
