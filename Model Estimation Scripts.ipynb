{
 "cells": [
  {
   "cell_type": "code",
   "execution_count": 1,
   "metadata": {
    "collapsed": true
   },
   "outputs": [],
   "source": [
    "#import\n",
    "%load_ext autoreload\n",
    "%autoreload 2\n",
    "from urbansim_defaults import datasources, models\n",
    "import datasources, models, variables\n",
    "import urbansim.sim.simulation as sim\n",
    "import pandas as pd"
   ]
  },
  {
   "cell_type": "code",
   "execution_count": null,
   "metadata": {
    "collapsed": true
   },
   "outputs": [],
   "source": [
    "#reset travel time matrix to base year\n",
    "sim.run([\"travel_time_reset\"])\n",
    "#calculate open streetmap local network variables\n",
    "sim.run(['neighborhood_vars'],years=[2015])"
   ]
  },
  {
   "cell_type": "code",
   "execution_count": null,
   "metadata": {
    "collapsed": true
   },
   "outputs": [],
   "source": [
    "#residential price models single family and multifamily together\n",
    "sim.run(['rsh_estimate_slc'])\n",
    "sim.run(['rsh_estimate_davis'])\n",
    "sim.run(['rsh_estimate_weber'])\n",
    "sim.run(['rsh_estimate_utah'])"
   ]
  },
  {
   "cell_type": "code",
   "execution_count": null,
   "metadata": {
    "collapsed": true
   },
   "outputs": [],
   "source": [
    "#commercial price models\n",
    "sim.run(['nrh_estimate_slc'])\n",
    "sim.run(['nrh_estimate_davis'])\n",
    "sim.run(['nrh_estimate_weber'])\n",
    "sim.run(['nrh_estimate_utah'])"
   ]
  },
  {
   "cell_type": "code",
   "execution_count": 3,
   "metadata": {},
   "outputs": [
    {
     "name": "stdout",
     "output_type": "stream",
     "text": [
      "1\n"
     ]
    }
   ],
   "source": [
    "#household location choice model\n",
    "sim.run(['rsh_sf_simulate'])\n",
    "sim.run(['rsh_mf_simulate'])\n",
    "sim.run(['hlcm_estimate_slc'])\n",
    "sim.run(['hlcm_estimate_utah'])\n",
    "sim.run(['hlcm_estimate_dw'])\n",
    "#After Weber Davis models were estimated, copy the dw yaml results to weber and davis yaml, update the chooser/alternative prediction filter"
   ]
  },
  {
   "cell_type": "code",
   "execution_count": null,
   "metadata": {
    "collapsed": true
   },
   "outputs": [],
   "source": [
    "#employment location choice model\n",
    "sim.run(['nrh_ind_simulate', 'nrh_ofc_simulate', 'nrh_ret_simulate'], years=[2015])\n",
    "sim.run(['elcm_estimate'])\n",
    "#After models were estimated, copy the elcm.yaml results to each county's yaml, update the chooser/alternative prediction filter"
   ]
  },
  {
   "cell_type": "raw",
   "metadata": {},
   "source": []
  }
 ],
 "metadata": {
  "kernelspec": {
   "display_name": "Python 2",
   "language": "python",
   "name": "python2"
  },
  "language_info": {
   "codemirror_mode": {
    "name": "ipython",
    "version": 2
   },
   "file_extension": ".py",
   "mimetype": "text/x-python",
   "name": "python",
   "nbconvert_exporter": "python",
   "pygments_lexer": "ipython2",
   "version": "2.7.13"
  }
 },
 "nbformat": 4,
 "nbformat_minor": 2
}
