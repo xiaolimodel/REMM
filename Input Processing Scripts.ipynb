{
 "cells": [
  {
   "cell_type": "code",
   "execution_count": 1,
   "metadata": {},
   "outputs": [],
   "source": [
    "#import packages\n",
    "from urbansim_defaults import datasources, models, utils\n",
    "import datasources, models, variables, utils\n",
    "import urbansim.sim.simulation as sim\n",
    "import pandas as pd\n",
    "import numpy as np\n",
    "import os"
   ]
  },
  {
   "cell_type": "code",
   "execution_count": null,
   "metadata": {},
   "outputs": [],
   "source": [
    "#csv to h5. replace the table in the h5 table\n",
    "z = pd.read_csv('csv file of the table')\n",
    "z.set_index('id field of the table', inplace=True)\n",
    "store = pd.HDFStore('path to the h5 file')\n",
    "store['table name'] = z\n",
    "store.close()"
   ]
  },
  {
   "cell_type": "code",
   "execution_count": null,
   "metadata": {},
   "outputs": [],
   "source": [
    "#csv to h5 sample\n",
    "#Update building table example\n",
    "#1 make a copy of the h5 file.\n",
    "#2 copy the table csv file to c:\\wfrc_urbansim\\\n",
    "#3 Run the code\n",
    "z = pd.read_csv('buildingtable12012017.csv')\n",
    "z.set_index('building_id', inplace=True)\n",
    "store = pd.HDFStore('data/wfrc_data_2015_base_year_12012017.h5')\n",
    "store['buildings'] = z\n",
    "store.close()"
   ]
  },
  {
   "cell_type": "code",
   "execution_count": 2,
   "metadata": {},
   "outputs": [
    {
     "name": "stdout",
     "output_type": "stream",
     "text": [
      "['/buildings', '/buildings_for_estimation', '/buildings_for_estimation_grouped', '/employment_controls', '/household_controls', '/household_for_estimation', '/households', '/households_for_estimation', '/households_for_estimation1', '/jobs', '/parcels', '/travel_data', '/valid_parcels', '/zoning', '/zoning_base_line', '/zoning_baseline', '/zoning_for_parcels']\n"
     ]
    }
   ],
   "source": [
    "#check the table names in the h5 files\n",
    "store = pd.HDFStore('data/remm_data_2015_base_year_02082019.h5')\n",
    "print store.keys()\n",
    "store.close()"
   ]
  },
  {
   "cell_type": "code",
   "execution_count": null,
   "metadata": {},
   "outputs": [],
   "source": [
    "#write h5 table to csv files\n",
    "data = pd.read_hdf('data/wfrc_data_08282017_airport_zone_update.h5', 'zoning_baseline')\n",
    "data.to_csv(\"csv files\")"
   ]
  }
 ],
 "metadata": {
  "kernelspec": {
   "display_name": "Python 2",
   "language": "python",
   "name": "python2"
  },
  "language_info": {
   "codemirror_mode": {
    "name": "ipython",
    "version": 2
   },
   "file_extension": ".py",
   "mimetype": "text/x-python",
   "name": "python",
   "nbconvert_exporter": "python",
   "pygments_lexer": "ipython2",
   "version": "2.7.16"
  }
 },
 "nbformat": 4,
 "nbformat_minor": 2
}
